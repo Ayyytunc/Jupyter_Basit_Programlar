{
 "cells": [
  {
   "cell_type": "code",
   "execution_count": null,
   "metadata": {
    "collapsed": true
   },
   "outputs": [],
   "source": [
    "import math\n",
    "try:\n",
    "        islem = raw_input(\"Islem seciniz :Toplama, Cikarma, Carpma, Bolme, Kok Alma, Ortalama Bulma, Us Hesaplama, Faktoriyel Hesaplama    \")\n",
    "        sayi1 =input(\"Ilk sayiyi giriniz :  \")\n",
    "        if islem == \"Kok Alma\":\n",
    "            print math.sqrt(sayi1)\n",
    "            hata()\n",
    "            pass\n",
    "        if islem == \"Faktoriyel Hesaplama\":\n",
    "            print math.factorial(sayi1)\n",
    "            hata()\n",
    "            pass\n",
    "        sayi2 =input(\"Ikinci sayiyi giriniz :  \")\n",
    "        if islem == \"Toplama\":\n",
    "            print sayi1+sayi2\n",
    "        if islem == \"Cikarma\":\n",
    "            print sayi1-sayi2\n",
    "        if islem == \"Carpma\":\n",
    "            print sayi1*sayi2\n",
    "        if islem == \"Bolme\":\n",
    "            print sayi1/sayi2\n",
    "        if islem == \"Ortalama Bulma\":\n",
    "            print (sayi1+sayi2)/2.0\n",
    "        if islem == \"Us Hesaplama\":\n",
    "            print math.pow(sayi1,sayi2)\n",
    "except:\n",
    "    pass"
   ]
  }
 ],
 "metadata": {
  "kernelspec": {
   "display_name": "Python 2",
   "language": "python",
   "name": "python2"
  },
  "language_info": {
   "codemirror_mode": {
    "name": "ipython",
    "version": 2
   },
   "file_extension": ".py",
   "mimetype": "text/x-python",
   "name": "python",
   "nbconvert_exporter": "python",
   "pygments_lexer": "ipython2",
   "version": "2.7.13"
  }
 },
 "nbformat": 4,
 "nbformat_minor": 2
}
